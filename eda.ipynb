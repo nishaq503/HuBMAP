{
 "cells": [
  {
   "cell_type": "code",
   "execution_count": 22,
   "id": "9a0fdbaa-026b-45ef-826b-8a90980cf2fa",
   "metadata": {},
   "outputs": [],
   "source": [
    "from model import utils\n",
    "from model import datagen\n",
    "import os\n",
    "import pandas\n",
    "import numpy\n",
    "import rasterio\n",
    "from rasterio.windows import Window"
   ]
  },
  {
   "cell_type": "code",
   "execution_count": 2,
   "id": "e3c6044a-b7eb-453e-a196-cd75dc2cf240",
   "metadata": {},
   "outputs": [
    {
     "data": {
      "text/html": [
       "<div>\n",
       "<style scoped>\n",
       "    .dataframe tbody tr th:only-of-type {\n",
       "        vertical-align: middle;\n",
       "    }\n",
       "\n",
       "    .dataframe tbody tr th {\n",
       "        vertical-align: top;\n",
       "    }\n",
       "\n",
       "    .dataframe thead th {\n",
       "        text-align: right;\n",
       "    }\n",
       "</style>\n",
       "<table border=\"1\" class=\"dataframe\">\n",
       "  <thead>\n",
       "    <tr style=\"text-align: right;\">\n",
       "      <th></th>\n",
       "      <th>encoding</th>\n",
       "    </tr>\n",
       "    <tr>\n",
       "      <th>id</th>\n",
       "      <th></th>\n",
       "    </tr>\n",
       "  </thead>\n",
       "  <tbody>\n",
       "    <tr>\n",
       "      <th>aaa6a05cc</th>\n",
       "      <td>30989109 59 31007591 64 31026074 68 31044556 7...</td>\n",
       "    </tr>\n",
       "    <tr>\n",
       "      <th>b2dc8411c</th>\n",
       "      <td>56157731 21 56172571 45 56187411 51 56202252 5...</td>\n",
       "    </tr>\n",
       "    <tr>\n",
       "      <th>54f2eec69</th>\n",
       "      <td>124967057 36 124997425 109 125027828 147 12505...</td>\n",
       "    </tr>\n",
       "    <tr>\n",
       "      <th>e79de561c</th>\n",
       "      <td>7334642 14 7350821 41 7367001 67 7383180 82 73...</td>\n",
       "    </tr>\n",
       "    <tr>\n",
       "      <th>2f6ecfcdf</th>\n",
       "      <td>296084587 4 296115835 6 296115859 14 296147109...</td>\n",
       "    </tr>\n",
       "    <tr>\n",
       "      <th>0486052bb</th>\n",
       "      <td>101676003 6 101701785 8 101727568 9 101753351 ...</td>\n",
       "    </tr>\n",
       "    <tr>\n",
       "      <th>1e2425f28</th>\n",
       "      <td>49453112 7 49479881 22 49506657 31 49533433 40...</td>\n",
       "    </tr>\n",
       "    <tr>\n",
       "      <th>afa5e8098</th>\n",
       "      <td>65837968 7 65874765 11 65874827 12 65911562 15...</td>\n",
       "    </tr>\n",
       "    <tr>\n",
       "      <th>095bf7a1f</th>\n",
       "      <td>113277795 21 113315936 53 113354083 87 1133922...</td>\n",
       "    </tr>\n",
       "    <tr>\n",
       "      <th>26dc41664</th>\n",
       "      <td>245832956 28 245869925 2 245871115 33 24590808...</td>\n",
       "    </tr>\n",
       "    <tr>\n",
       "      <th>b9a3865fc</th>\n",
       "      <td>61271840 4 61303134 13 61334428 22 61365722 30...</td>\n",
       "    </tr>\n",
       "    <tr>\n",
       "      <th>8242609fa</th>\n",
       "      <td>96909968 56 96941265 60 96972563 64 97003861 6...</td>\n",
       "    </tr>\n",
       "    <tr>\n",
       "      <th>cb2d976f4</th>\n",
       "      <td>78144363 5 78179297 15 78214231 25 78249165 35...</td>\n",
       "    </tr>\n",
       "    <tr>\n",
       "      <th>c68fe75ea</th>\n",
       "      <td>21256809 3 21283644 10 21310479 17 21337315 22...</td>\n",
       "    </tr>\n",
       "    <tr>\n",
       "      <th>4ef6695ce</th>\n",
       "      <td>137041956 58 137081912 65 137121869 72 1371618...</td>\n",
       "    </tr>\n",
       "  </tbody>\n",
       "</table>\n",
       "</div>"
      ],
      "text/plain": [
       "                                                    encoding\n",
       "id                                                          \n",
       "aaa6a05cc  30989109 59 31007591 64 31026074 68 31044556 7...\n",
       "b2dc8411c  56157731 21 56172571 45 56187411 51 56202252 5...\n",
       "54f2eec69  124967057 36 124997425 109 125027828 147 12505...\n",
       "e79de561c  7334642 14 7350821 41 7367001 67 7383180 82 73...\n",
       "2f6ecfcdf  296084587 4 296115835 6 296115859 14 296147109...\n",
       "0486052bb  101676003 6 101701785 8 101727568 9 101753351 ...\n",
       "1e2425f28  49453112 7 49479881 22 49506657 31 49533433 40...\n",
       "afa5e8098  65837968 7 65874765 11 65874827 12 65911562 15...\n",
       "095bf7a1f  113277795 21 113315936 53 113354083 87 1133922...\n",
       "26dc41664  245832956 28 245869925 2 245871115 33 24590808...\n",
       "b9a3865fc  61271840 4 61303134 13 61334428 22 61365722 30...\n",
       "8242609fa  96909968 56 96941265 60 96972563 64 97003861 6...\n",
       "cb2d976f4  78144363 5 78179297 15 78214231 25 78249165 35...\n",
       "c68fe75ea  21256809 3 21283644 10 21310479 17 21337315 22...\n",
       "4ef6695ce  137041956 58 137081912 65 137121869 72 1371618..."
      ]
     },
     "execution_count": 2,
     "metadata": {},
     "output_type": "execute_result"
    }
   ],
   "source": [
    "train_df = pandas.read_csv(utils.TRAIN_PATH).set_index('id')\n",
    "train_df"
   ]
  },
  {
   "cell_type": "code",
   "execution_count": 14,
   "id": "63207925-d5bd-4604-b339-0a344143c80b",
   "metadata": {},
   "outputs": [
    {
     "data": {
      "text/plain": [
       "(256, 32)"
      ]
     },
     "execution_count": 14,
     "metadata": {},
     "output_type": "execute_result"
    }
   ],
   "source": [
    "tile_size = utils.GLOBALS['tile_size']\n",
    "min_overlap = utils.GLOBALS['min_overlap']\n",
    "tile_size, min_overlap"
   ]
  },
  {
   "cell_type": "code",
   "execution_count": 29,
   "id": "617c0145-ef8b-48bd-93a3-6245bd866846",
   "metadata": {},
   "outputs": [
    {
     "name": "stderr",
     "output_type": "stream",
     "text": [
      "/home/nishaq/Documents/kaggle/.kaggle/lib/python3.8/site-packages/rasterio/__init__.py:207: NotGeoreferencedWarning: Dataset has no geotransform, gcps, or rpcs. The identity matrix be returned.\n",
      "  s = DatasetReader(path, driver=driver, sharing=sharing, **kwargs)\n"
     ]
    },
    {
     "name": "stdout",
     "output_type": "stream",
     "text": [
      "(2418, 6)\n"
     ]
    },
    {
     "data": {
      "text/html": [
       "<div>\n",
       "<style scoped>\n",
       "    .dataframe tbody tr th:only-of-type {\n",
       "        vertical-align: middle;\n",
       "    }\n",
       "\n",
       "    .dataframe tbody tr th {\n",
       "        vertical-align: top;\n",
       "    }\n",
       "\n",
       "    .dataframe thead th {\n",
       "        text-align: right;\n",
       "    }\n",
       "</style>\n",
       "<table border=\"1\" class=\"dataframe\">\n",
       "  <thead>\n",
       "    <tr style=\"text-align: right;\">\n",
       "      <th></th>\n",
       "      <th>id</th>\n",
       "      <th>x1</th>\n",
       "      <th>x2</th>\n",
       "      <th>y1</th>\n",
       "      <th>y2</th>\n",
       "      <th>glom</th>\n",
       "    </tr>\n",
       "  </thead>\n",
       "  <tbody>\n",
       "    <tr>\n",
       "      <th>0</th>\n",
       "      <td>aaa6a05cc</td>\n",
       "      <td>0</td>\n",
       "      <td>256</td>\n",
       "      <td>5955</td>\n",
       "      <td>6211</td>\n",
       "      <td>0</td>\n",
       "    </tr>\n",
       "    <tr>\n",
       "      <th>1</th>\n",
       "      <td>aaa6a05cc</td>\n",
       "      <td>0</td>\n",
       "      <td>256</td>\n",
       "      <td>6175</td>\n",
       "      <td>6431</td>\n",
       "      <td>0</td>\n",
       "    </tr>\n",
       "    <tr>\n",
       "      <th>2</th>\n",
       "      <td>aaa6a05cc</td>\n",
       "      <td>222</td>\n",
       "      <td>478</td>\n",
       "      <td>4852</td>\n",
       "      <td>5108</td>\n",
       "      <td>0</td>\n",
       "    </tr>\n",
       "    <tr>\n",
       "      <th>3</th>\n",
       "      <td>aaa6a05cc</td>\n",
       "      <td>222</td>\n",
       "      <td>478</td>\n",
       "      <td>5955</td>\n",
       "      <td>6211</td>\n",
       "      <td>0</td>\n",
       "    </tr>\n",
       "    <tr>\n",
       "      <th>4</th>\n",
       "      <td>aaa6a05cc</td>\n",
       "      <td>222</td>\n",
       "      <td>478</td>\n",
       "      <td>6175</td>\n",
       "      <td>6431</td>\n",
       "      <td>0</td>\n",
       "    </tr>\n",
       "  </tbody>\n",
       "</table>\n",
       "</div>"
      ],
      "text/plain": [
       "          id   x1   x2    y1    y2 glom\n",
       "0  aaa6a05cc    0  256  5955  6211    0\n",
       "1  aaa6a05cc    0  256  6175  6431    0\n",
       "2  aaa6a05cc  222  478  4852  5108    0\n",
       "3  aaa6a05cc  222  478  5955  6211    0\n",
       "4  aaa6a05cc  222  478  6175  6431    0"
      ]
     },
     "execution_count": 29,
     "metadata": {},
     "output_type": "execute_result"
    }
   ],
   "source": [
    "slices_df = pandas.DataFrame(columns=['id', 'x1', 'x2', 'y1', 'y2', 'glom'])\n",
    "\n",
    "for name, encoding in train_df.iterrows():\n",
    "    rle = encoding.values[0]\n",
    "    path = os.path.join(utils.TRAIN_DIR, f'{name}.tiff')\n",
    "    raster = rasterio.open(path, transform=rasterio.Affine(1, 0, 0, 0, 1, 0))\n",
    "    layers = None if raster.count == 3 else [rasterio.open(sub_dataset) for sub_dataset in raster.subdatasets]\n",
    "    slices = datagen._make_grid(raster.shape, tile_size, min_overlap)\n",
    "    full_mask = datagen.encoding_to_mask(\n",
    "        encoding=rle,\n",
    "        shape=(raster.shape[1], raster.shape[0]),\n",
    "    )\n",
    "    for x1, x2, y1, y2 in slices:\n",
    "        window = Window.from_slices((x1, x2), (y1, y2))\n",
    "        image = numpy.zeros((tile_size, tile_size, 3), dtype=numpy.uint8)\n",
    "        if raster.count == 3:\n",
    "            image[:, :, :] = numpy.moveaxis(raster.read([1, 2, 3], window=window), 0, -1)\n",
    "        else:\n",
    "            for channel in range(3):\n",
    "                image[:, :, channel] = layers[channel].read(window=window)\n",
    "        \n",
    "        if datagen._filter_tissue(image):\n",
    "            continue\n",
    "        \n",
    "        mask = numpy.zeros((tile_size, tile_size), dtype=numpy.uint8)\n",
    "        mask[:, :] = full_mask[x1:x2, y1:y2]\n",
    "        \n",
    "        row = {\n",
    "            'id': name,\n",
    "            'x1': x1,\n",
    "            'x2': x2,\n",
    "            'y1': y1,\n",
    "            'y2': y2,\n",
    "            'glom': int(mask.sum() > 0),\n",
    "        }\n",
    "        slices_df = slices_df.append(row, ignore_index=True)\n",
    "    break\n",
    "\n",
    "print(slices_df.shape)\n",
    "slices_df.head()"
   ]
  },
  {
   "cell_type": "code",
   "execution_count": 30,
   "id": "a875d017-f906-4f42-b7e2-39225e0c856e",
   "metadata": {},
   "outputs": [
    {
     "data": {
      "text/plain": [
       "426"
      ]
     },
     "execution_count": 30,
     "metadata": {},
     "output_type": "execute_result"
    }
   ],
   "source": [
    "sum(slices_df['glom'] == 1)"
   ]
  },
  {
   "cell_type": "code",
   "execution_count": 31,
   "id": "decd9890-f806-401c-b499-d649973dfb80",
   "metadata": {},
   "outputs": [
    {
     "data": {
      "text/plain": [
       "1992"
      ]
     },
     "execution_count": 31,
     "metadata": {},
     "output_type": "execute_result"
    }
   ],
   "source": [
    "sum(slices_df['glom'] != 1)"
   ]
  },
  {
   "cell_type": "code",
   "execution_count": null,
   "id": "d7f93a62-3583-45da-bc12-c5c3d9eed826",
   "metadata": {},
   "outputs": [],
   "source": []
  }
 ],
 "metadata": {
  "kernelspec": {
   "display_name": ".kaggle",
   "language": "python",
   "name": ".kaggle"
  },
  "language_info": {
   "codemirror_mode": {
    "name": "ipython",
    "version": 3
   },
   "file_extension": ".py",
   "mimetype": "text/x-python",
   "name": "python",
   "nbconvert_exporter": "python",
   "pygments_lexer": "ipython3",
   "version": "3.8.5"
  }
 },
 "nbformat": 4,
 "nbformat_minor": 5
}
