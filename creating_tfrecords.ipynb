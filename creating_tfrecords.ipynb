{
 "cells": [
  {
   "cell_type": "code",
   "execution_count": 1,
   "id": "ef27c02b-deca-4d3e-a94d-e2750ca353f3",
   "metadata": {},
   "outputs": [],
   "source": [
    "import numpy as np\n",
    "import pandas as pd\n",
    "import matplotlib.pyplot as plt\n",
    "from PIL import Image\n",
    "import tifffile as tiff\n",
    "import cv2\n",
    "import os\n",
    "from tqdm.notebook import tqdm\n",
    "import tensorflow as tf\n",
    "import gc\n",
    "import rasterio\n",
    "from rasterio.windows import Window\n",
    "from tensorflow.data import Dataset"
   ]
  },
  {
   "cell_type": "code",
   "execution_count": 4,
   "id": "e8c41c87-3f53-4ec5-848f-4b002cc1480b",
   "metadata": {},
   "outputs": [],
   "source": [
    "from model import utils"
   ]
  },
  {
   "cell_type": "code",
   "execution_count": 2,
   "id": "c6328881-d0f6-4512-a276-a2cff9842bf9",
   "metadata": {},
   "outputs": [],
   "source": [
    "tile_size = 1024\n",
    "s_th = 40  # saturation blanking threshold\n",
    "p_th = 1000 * (tile_size // 256) ** 2  # threshold for minimul number of pixels"
   ]
  },
  {
   "cell_type": "code",
   "execution_count": 6,
   "id": "4e374bbb-baac-47ab-a1b6-bd34869fd628",
   "metadata": {},
   "outputs": [],
   "source": [
    "def encodings_to_mask(encodings, shape):\n",
    "    image = np.zeros(np.prod(shape), dtype=np.uint8)\n",
    "    for m, encoding in enumerate(encodings):\n",
    "        if isinstance(encoding, np.float) and np.isnan(encoding):\n",
    "            continue\n",
    "        \n",
    "        split = encoding.split()\n",
    "        for i in range(0, len(split), 2):\n",
    "            start, length = int(split[i]) - 1, int(split[i + 1])\n",
    "            image[start: start + length] = 1 + m\n",
    "    return image.reshape(shape).T\n",
    "\n",
    "\n",
    "def mask_to_encodings(mask, n=1):\n",
    "    pixels = mask.T.flatten()\n",
    "    encodings = list()\n",
    "    for i in range(1, n + 1):\n",
    "        p = (pixels == i).astype(np.int8)\n",
    "        if p.sum() == 0:\n",
    "            encodings.append(np.nan)\n",
    "        else:\n",
    "            p = np.concatenate([[0], p, [0]])\n",
    "            runs = np.where(p[1:] != p[:-1])[0] + 1\n",
    "            encodings.append(' '.join(str(x) for x in runs))\n",
    "    return encodings"
   ]
  },
  {
   "cell_type": "code",
   "execution_count": 5,
   "id": "2876f234-34d1-4782-8ad2-39bfcfa96ed8",
   "metadata": {},
   "outputs": [
    {
     "data": {
      "text/html": [
       "<div>\n",
       "<style scoped>\n",
       "    .dataframe tbody tr th:only-of-type {\n",
       "        vertical-align: middle;\n",
       "    }\n",
       "\n",
       "    .dataframe tbody tr th {\n",
       "        vertical-align: top;\n",
       "    }\n",
       "\n",
       "    .dataframe thead th {\n",
       "        text-align: right;\n",
       "    }\n",
       "</style>\n",
       "<table border=\"1\" class=\"dataframe\">\n",
       "  <thead>\n",
       "    <tr style=\"text-align: right;\">\n",
       "      <th></th>\n",
       "      <th>encoding</th>\n",
       "    </tr>\n",
       "    <tr>\n",
       "      <th>id</th>\n",
       "      <th></th>\n",
       "    </tr>\n",
       "  </thead>\n",
       "  <tbody>\n",
       "    <tr>\n",
       "      <th>2f6ecfcdf</th>\n",
       "      <td>296084587 4 296115835 6 296115859 14 296147109...</td>\n",
       "    </tr>\n",
       "    <tr>\n",
       "      <th>8242609fa</th>\n",
       "      <td>96909968 56 96941265 60 96972563 64 97003861 6...</td>\n",
       "    </tr>\n",
       "    <tr>\n",
       "      <th>aaa6a05cc</th>\n",
       "      <td>30989109 59 31007591 64 31026074 68 31044556 7...</td>\n",
       "    </tr>\n",
       "    <tr>\n",
       "      <th>cb2d976f4</th>\n",
       "      <td>78144363 5 78179297 15 78214231 25 78249165 35...</td>\n",
       "    </tr>\n",
       "    <tr>\n",
       "      <th>b9a3865fc</th>\n",
       "      <td>61271840 4 61303134 13 61334428 22 61365722 30...</td>\n",
       "    </tr>\n",
       "  </tbody>\n",
       "</table>\n",
       "</div>"
      ],
      "text/plain": [
       "                                                    encoding\n",
       "id                                                          \n",
       "2f6ecfcdf  296084587 4 296115835 6 296115859 14 296147109...\n",
       "8242609fa  96909968 56 96941265 60 96972563 64 97003861 6...\n",
       "aaa6a05cc  30989109 59 31007591 64 31026074 68 31044556 7...\n",
       "cb2d976f4  78144363 5 78179297 15 78214231 25 78249165 35...\n",
       "b9a3865fc  61271840 4 61303134 13 61334428 22 61365722 30..."
      ]
     },
     "execution_count": 5,
     "metadata": {},
     "output_type": "execute_result"
    }
   ],
   "source": [
    "df_masks = pd.read_csv(utils.TRAIN_PATH).set_index('id')\n",
    "df_masks.head()"
   ]
  },
  {
   "cell_type": "code",
   "execution_count": null,
   "id": "a2e93dcf-eb77-4378-acef-8ebaca3b7743",
   "metadata": {},
   "outputs": [],
   "source": []
  }
 ],
 "metadata": {
  "kernelspec": {
   "display_name": ".kaggle",
   "language": "python",
   "name": ".kaggle"
  },
  "language_info": {
   "codemirror_mode": {
    "name": "ipython",
    "version": 3
   },
   "file_extension": ".py",
   "mimetype": "text/x-python",
   "name": "python",
   "nbconvert_exporter": "python",
   "pygments_lexer": "ipython3",
   "version": "3.8.5"
  }
 },
 "nbformat": 4,
 "nbformat_minor": 5
}
